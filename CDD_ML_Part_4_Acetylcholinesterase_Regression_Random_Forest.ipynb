{
  "cells": [
    {
      "cell_type": "markdown",
      "metadata": {
        "colab_type": "text",
        "id": "7AAfh_j7hSwQ"
      },
      "source": [
        "\n",
        "\n",
        "In **Part 4**, we will be building a regression model of acetylcholinesterase inhibitors using the random forest algorithm.\n",
        "\n",
        "---"
      ]
    },
    {
      "cell_type": "markdown",
      "metadata": {
        "colab_type": "text",
        "id": "jw7MqTMphSwR"
      },
      "source": [
        "## **1. Import libraries**"
      ]
    },
    {
      "cell_type": "code",
      "execution_count": null,
      "metadata": {
        "colab": {},
        "colab_type": "code",
        "id": "D3rFTNAIhSwS"
      },
      "outputs": [],
      "source": [
        "import pandas as pd\n",
        "from sklearn.model_selection import train_test_split\n",
        "from sklearn.feature_selection import VarianceThreshold\n",
        "from sklearn.ensemble import RandomForestRegressor\n",
        "from sklearn.metrics import r2_score, mean_squared_error\n",
        "import numpy as np\n",
        "import matplotlib.pyplot as plt"
      ]
    },
    {
      "cell_type": "markdown",
      "metadata": {
        "colab_type": "text",
        "id": "0GvT3PArhSwX"
      },
      "source": [
        "## **2. Load the data set**"
      ]
    },
    {
      "cell_type": "code",
      "execution_count": null,
      "metadata": {
        "colab": {
          "base_uri": "https://localhost:8080/",
          "height": 289
        },
        "colab_type": "code",
        "id": "043mRJZIhSwY",
        "outputId": "96bc783e-89f4-4013-dc58-376965a73425"
      },
      "outputs": [],
      "source": [
        "# ! wget https://github.com/jatindangi1206/drug-discovery/blob/main/acetylcholinesterase/acetylcholinesterase_06_bioactivity_data_3class_pIC50_pubchem_fp.csv "
      ]
    },
    {
      "cell_type": "code",
      "execution_count": 23,
      "metadata": {
        "colab": {},
        "colab_type": "code",
        "id": "cSgppzqPiR0G"
      },
      "outputs": [
        {
          "name": "stdout",
          "output_type": "stream",
          "text": [
            "Initial shape: (6642, 882)\n"
          ]
        }
      ],
      "source": [
        "# 2. Load the dataset\n",
        "df = pd.read_csv('/Users/jatindangi/Desktop/ICGEB/PROJECT/acetylcholinesterase/acetylcholinesterase_06_bioactivity_data_3class_pIC50_pubchem_fp.csv')\n",
        "print(\"Initial shape:\", df.shape)"
      ]
    },
    {
      "cell_type": "code",
      "execution_count": 24,
      "metadata": {},
      "outputs": [
        {
          "name": "stdout",
          "output_type": "stream",
          "text": [
            "NaN in pIC50 before cleaning: 1\n"
          ]
        }
      ],
      "source": [
        "# 3. Check NaNs in pIC50\n",
        "print(\"NaN in pIC50 before cleaning:\", df['pIC50'].isna().sum())"
      ]
    },
    {
      "cell_type": "code",
      "execution_count": 22,
      "metadata": {},
      "outputs": [
        {
          "name": "stdout",
          "output_type": "stream",
          "text": [
            "NaN in pIC50: 0\n"
          ]
        }
      ],
      "source": [
        "# 3. Check missing values in target\n",
        "print(\"NaN in pIC50:\", df['pIC50'].isna().sum())"
      ]
    },
    {
      "cell_type": "code",
      "execution_count": 25,
      "metadata": {},
      "outputs": [
        {
          "name": "stdout",
          "output_type": "stream",
          "text": [
            "NaN in pIC50 after cleaning: 0\n",
            "Shape after dropping NaN: (6641, 882)\n"
          ]
        }
      ],
      "source": [
        "# 4. Drop the one NaN row\n",
        "df = df.dropna(subset=['pIC50'])\n",
        "print(\"NaN in pIC50 after cleaning:\", df['pIC50'].isna().sum())\n",
        "print(\"Shape after dropping NaN:\", df.shape)\n"
      ]
    },
    {
      "cell_type": "markdown",
      "metadata": {
        "colab_type": "text",
        "id": "kuiiC0xthSwb"
      },
      "source": [
        "## **3. Input features**\n",
        "The ***Acetylcholinesterase*** data set contains 881 input features and 1 output variable (pIC50 values)."
      ]
    },
    {
      "cell_type": "markdown",
      "metadata": {
        "colab_type": "text",
        "id": "iCeQQn0uhSwb"
      },
      "source": [
        "### **3.1. Input features**"
      ]
    },
    {
      "cell_type": "code",
      "execution_count": 26,
      "metadata": {
        "colab": {
          "base_uri": "https://localhost:8080/",
          "height": 439
        },
        "colab_type": "code",
        "id": "li32nAPohSwc",
        "outputId": "e3cbf177-e82b-4e57-c32a-af9ab924dda8",
        "scrolled": true
      },
      "outputs": [],
      "source": [
        "X = df.drop('pIC50', axis=1)\n",
        "Y = df['pIC50']"
      ]
    },
    {
      "cell_type": "markdown",
      "metadata": {
        "colab_type": "text",
        "id": "sGQjCQtfhSwg"
      },
      "source": [
        "### **3.2. Output features**"
      ]
    },
    {
      "cell_type": "code",
      "execution_count": 27,
      "metadata": {
        "colab": {
          "base_uri": "https://localhost:8080/",
          "height": 221
        },
        "colab_type": "code",
        "id": "OWylAtAVhSwh",
        "outputId": "5747e12a-3abb-4e43-fc1c-c8dbe42f3992"
      },
      "outputs": [
        {
          "data": {
            "text/html": [
              "<div>\n",
              "<style scoped>\n",
              "    .dataframe tbody tr th:only-of-type {\n",
              "        vertical-align: middle;\n",
              "    }\n",
              "\n",
              "    .dataframe tbody tr th {\n",
              "        vertical-align: top;\n",
              "    }\n",
              "\n",
              "    .dataframe thead th {\n",
              "        text-align: right;\n",
              "    }\n",
              "</style>\n",
              "<table border=\"1\" class=\"dataframe\">\n",
              "  <thead>\n",
              "    <tr style=\"text-align: right;\">\n",
              "      <th></th>\n",
              "      <th>PubchemFP0</th>\n",
              "      <th>PubchemFP1</th>\n",
              "      <th>PubchemFP2</th>\n",
              "      <th>PubchemFP3</th>\n",
              "      <th>PubchemFP4</th>\n",
              "      <th>PubchemFP5</th>\n",
              "      <th>PubchemFP6</th>\n",
              "      <th>PubchemFP7</th>\n",
              "      <th>PubchemFP8</th>\n",
              "      <th>PubchemFP9</th>\n",
              "      <th>...</th>\n",
              "      <th>PubchemFP871</th>\n",
              "      <th>PubchemFP872</th>\n",
              "      <th>PubchemFP873</th>\n",
              "      <th>PubchemFP874</th>\n",
              "      <th>PubchemFP875</th>\n",
              "      <th>PubchemFP876</th>\n",
              "      <th>PubchemFP877</th>\n",
              "      <th>PubchemFP878</th>\n",
              "      <th>PubchemFP879</th>\n",
              "      <th>PubchemFP880</th>\n",
              "    </tr>\n",
              "  </thead>\n",
              "  <tbody>\n",
              "    <tr>\n",
              "      <th>0</th>\n",
              "      <td>1</td>\n",
              "      <td>1</td>\n",
              "      <td>0</td>\n",
              "      <td>0</td>\n",
              "      <td>0</td>\n",
              "      <td>0</td>\n",
              "      <td>0</td>\n",
              "      <td>0</td>\n",
              "      <td>0</td>\n",
              "      <td>1</td>\n",
              "      <td>...</td>\n",
              "      <td>0</td>\n",
              "      <td>0</td>\n",
              "      <td>0</td>\n",
              "      <td>0</td>\n",
              "      <td>0</td>\n",
              "      <td>0</td>\n",
              "      <td>0</td>\n",
              "      <td>0</td>\n",
              "      <td>0</td>\n",
              "      <td>0</td>\n",
              "    </tr>\n",
              "    <tr>\n",
              "      <th>1</th>\n",
              "      <td>1</td>\n",
              "      <td>1</td>\n",
              "      <td>0</td>\n",
              "      <td>0</td>\n",
              "      <td>0</td>\n",
              "      <td>0</td>\n",
              "      <td>0</td>\n",
              "      <td>0</td>\n",
              "      <td>0</td>\n",
              "      <td>1</td>\n",
              "      <td>...</td>\n",
              "      <td>0</td>\n",
              "      <td>0</td>\n",
              "      <td>0</td>\n",
              "      <td>0</td>\n",
              "      <td>0</td>\n",
              "      <td>0</td>\n",
              "      <td>0</td>\n",
              "      <td>0</td>\n",
              "      <td>0</td>\n",
              "      <td>0</td>\n",
              "    </tr>\n",
              "    <tr>\n",
              "      <th>2</th>\n",
              "      <td>1</td>\n",
              "      <td>1</td>\n",
              "      <td>1</td>\n",
              "      <td>0</td>\n",
              "      <td>0</td>\n",
              "      <td>0</td>\n",
              "      <td>0</td>\n",
              "      <td>0</td>\n",
              "      <td>0</td>\n",
              "      <td>1</td>\n",
              "      <td>...</td>\n",
              "      <td>0</td>\n",
              "      <td>0</td>\n",
              "      <td>0</td>\n",
              "      <td>0</td>\n",
              "      <td>0</td>\n",
              "      <td>0</td>\n",
              "      <td>0</td>\n",
              "      <td>0</td>\n",
              "      <td>0</td>\n",
              "      <td>0</td>\n",
              "    </tr>\n",
              "    <tr>\n",
              "      <th>3</th>\n",
              "      <td>1</td>\n",
              "      <td>1</td>\n",
              "      <td>1</td>\n",
              "      <td>0</td>\n",
              "      <td>0</td>\n",
              "      <td>0</td>\n",
              "      <td>0</td>\n",
              "      <td>0</td>\n",
              "      <td>0</td>\n",
              "      <td>1</td>\n",
              "      <td>...</td>\n",
              "      <td>0</td>\n",
              "      <td>0</td>\n",
              "      <td>0</td>\n",
              "      <td>0</td>\n",
              "      <td>0</td>\n",
              "      <td>0</td>\n",
              "      <td>0</td>\n",
              "      <td>0</td>\n",
              "      <td>0</td>\n",
              "      <td>0</td>\n",
              "    </tr>\n",
              "    <tr>\n",
              "      <th>4</th>\n",
              "      <td>1</td>\n",
              "      <td>1</td>\n",
              "      <td>1</td>\n",
              "      <td>0</td>\n",
              "      <td>0</td>\n",
              "      <td>0</td>\n",
              "      <td>0</td>\n",
              "      <td>0</td>\n",
              "      <td>0</td>\n",
              "      <td>1</td>\n",
              "      <td>...</td>\n",
              "      <td>0</td>\n",
              "      <td>0</td>\n",
              "      <td>0</td>\n",
              "      <td>0</td>\n",
              "      <td>0</td>\n",
              "      <td>0</td>\n",
              "      <td>0</td>\n",
              "      <td>0</td>\n",
              "      <td>0</td>\n",
              "      <td>0</td>\n",
              "    </tr>\n",
              "    <tr>\n",
              "      <th>...</th>\n",
              "      <td>...</td>\n",
              "      <td>...</td>\n",
              "      <td>...</td>\n",
              "      <td>...</td>\n",
              "      <td>...</td>\n",
              "      <td>...</td>\n",
              "      <td>...</td>\n",
              "      <td>...</td>\n",
              "      <td>...</td>\n",
              "      <td>...</td>\n",
              "      <td>...</td>\n",
              "      <td>...</td>\n",
              "      <td>...</td>\n",
              "      <td>...</td>\n",
              "      <td>...</td>\n",
              "      <td>...</td>\n",
              "      <td>...</td>\n",
              "      <td>...</td>\n",
              "      <td>...</td>\n",
              "      <td>...</td>\n",
              "      <td>...</td>\n",
              "    </tr>\n",
              "    <tr>\n",
              "      <th>6637</th>\n",
              "      <td>1</td>\n",
              "      <td>1</td>\n",
              "      <td>1</td>\n",
              "      <td>0</td>\n",
              "      <td>0</td>\n",
              "      <td>0</td>\n",
              "      <td>0</td>\n",
              "      <td>0</td>\n",
              "      <td>0</td>\n",
              "      <td>1</td>\n",
              "      <td>...</td>\n",
              "      <td>0</td>\n",
              "      <td>0</td>\n",
              "      <td>0</td>\n",
              "      <td>0</td>\n",
              "      <td>0</td>\n",
              "      <td>0</td>\n",
              "      <td>0</td>\n",
              "      <td>0</td>\n",
              "      <td>0</td>\n",
              "      <td>0</td>\n",
              "    </tr>\n",
              "    <tr>\n",
              "      <th>6638</th>\n",
              "      <td>1</td>\n",
              "      <td>1</td>\n",
              "      <td>0</td>\n",
              "      <td>0</td>\n",
              "      <td>0</td>\n",
              "      <td>0</td>\n",
              "      <td>0</td>\n",
              "      <td>0</td>\n",
              "      <td>0</td>\n",
              "      <td>1</td>\n",
              "      <td>...</td>\n",
              "      <td>0</td>\n",
              "      <td>0</td>\n",
              "      <td>0</td>\n",
              "      <td>0</td>\n",
              "      <td>0</td>\n",
              "      <td>0</td>\n",
              "      <td>0</td>\n",
              "      <td>0</td>\n",
              "      <td>0</td>\n",
              "      <td>0</td>\n",
              "    </tr>\n",
              "    <tr>\n",
              "      <th>6639</th>\n",
              "      <td>1</td>\n",
              "      <td>1</td>\n",
              "      <td>1</td>\n",
              "      <td>0</td>\n",
              "      <td>0</td>\n",
              "      <td>0</td>\n",
              "      <td>0</td>\n",
              "      <td>0</td>\n",
              "      <td>0</td>\n",
              "      <td>1</td>\n",
              "      <td>...</td>\n",
              "      <td>0</td>\n",
              "      <td>0</td>\n",
              "      <td>0</td>\n",
              "      <td>0</td>\n",
              "      <td>0</td>\n",
              "      <td>0</td>\n",
              "      <td>0</td>\n",
              "      <td>0</td>\n",
              "      <td>0</td>\n",
              "      <td>0</td>\n",
              "    </tr>\n",
              "    <tr>\n",
              "      <th>6640</th>\n",
              "      <td>1</td>\n",
              "      <td>1</td>\n",
              "      <td>1</td>\n",
              "      <td>0</td>\n",
              "      <td>0</td>\n",
              "      <td>0</td>\n",
              "      <td>0</td>\n",
              "      <td>0</td>\n",
              "      <td>0</td>\n",
              "      <td>1</td>\n",
              "      <td>...</td>\n",
              "      <td>0</td>\n",
              "      <td>0</td>\n",
              "      <td>0</td>\n",
              "      <td>0</td>\n",
              "      <td>0</td>\n",
              "      <td>0</td>\n",
              "      <td>0</td>\n",
              "      <td>0</td>\n",
              "      <td>0</td>\n",
              "      <td>0</td>\n",
              "    </tr>\n",
              "    <tr>\n",
              "      <th>6641</th>\n",
              "      <td>1</td>\n",
              "      <td>1</td>\n",
              "      <td>1</td>\n",
              "      <td>0</td>\n",
              "      <td>0</td>\n",
              "      <td>0</td>\n",
              "      <td>0</td>\n",
              "      <td>0</td>\n",
              "      <td>0</td>\n",
              "      <td>1</td>\n",
              "      <td>...</td>\n",
              "      <td>0</td>\n",
              "      <td>0</td>\n",
              "      <td>0</td>\n",
              "      <td>0</td>\n",
              "      <td>0</td>\n",
              "      <td>0</td>\n",
              "      <td>0</td>\n",
              "      <td>0</td>\n",
              "      <td>0</td>\n",
              "      <td>0</td>\n",
              "    </tr>\n",
              "  </tbody>\n",
              "</table>\n",
              "<p>6641 rows × 881 columns</p>\n",
              "</div>"
            ],
            "text/plain": [
              "      PubchemFP0  PubchemFP1  PubchemFP2  PubchemFP3  PubchemFP4  PubchemFP5  \\\n",
              "0              1           1           0           0           0           0   \n",
              "1              1           1           0           0           0           0   \n",
              "2              1           1           1           0           0           0   \n",
              "3              1           1           1           0           0           0   \n",
              "4              1           1           1           0           0           0   \n",
              "...          ...         ...         ...         ...         ...         ...   \n",
              "6637           1           1           1           0           0           0   \n",
              "6638           1           1           0           0           0           0   \n",
              "6639           1           1           1           0           0           0   \n",
              "6640           1           1           1           0           0           0   \n",
              "6641           1           1           1           0           0           0   \n",
              "\n",
              "      PubchemFP6  PubchemFP7  PubchemFP8  PubchemFP9  ...  PubchemFP871  \\\n",
              "0              0           0           0           1  ...             0   \n",
              "1              0           0           0           1  ...             0   \n",
              "2              0           0           0           1  ...             0   \n",
              "3              0           0           0           1  ...             0   \n",
              "4              0           0           0           1  ...             0   \n",
              "...          ...         ...         ...         ...  ...           ...   \n",
              "6637           0           0           0           1  ...             0   \n",
              "6638           0           0           0           1  ...             0   \n",
              "6639           0           0           0           1  ...             0   \n",
              "6640           0           0           0           1  ...             0   \n",
              "6641           0           0           0           1  ...             0   \n",
              "\n",
              "      PubchemFP872  PubchemFP873  PubchemFP874  PubchemFP875  PubchemFP876  \\\n",
              "0                0             0             0             0             0   \n",
              "1                0             0             0             0             0   \n",
              "2                0             0             0             0             0   \n",
              "3                0             0             0             0             0   \n",
              "4                0             0             0             0             0   \n",
              "...            ...           ...           ...           ...           ...   \n",
              "6637             0             0             0             0             0   \n",
              "6638             0             0             0             0             0   \n",
              "6639             0             0             0             0             0   \n",
              "6640             0             0             0             0             0   \n",
              "6641             0             0             0             0             0   \n",
              "\n",
              "      PubchemFP877  PubchemFP878  PubchemFP879  PubchemFP880  \n",
              "0                0             0             0             0  \n",
              "1                0             0             0             0  \n",
              "2                0             0             0             0  \n",
              "3                0             0             0             0  \n",
              "4                0             0             0             0  \n",
              "...            ...           ...           ...           ...  \n",
              "6637             0             0             0             0  \n",
              "6638             0             0             0             0  \n",
              "6639             0             0             0             0  \n",
              "6640             0             0             0             0  \n",
              "6641             0             0             0             0  \n",
              "\n",
              "[6641 rows x 881 columns]"
            ]
          },
          "execution_count": 27,
          "metadata": {},
          "output_type": "execute_result"
        }
      ],
      "source": [
        "X"
      ]
    },
    {
      "cell_type": "code",
      "execution_count": 28,
      "metadata": {},
      "outputs": [
        {
          "data": {
            "text/plain": [
              "0       6.124939\n",
              "1       7.000000\n",
              "2       4.301030\n",
              "3       6.522879\n",
              "4       6.096910\n",
              "          ...   \n",
              "6637    4.337242\n",
              "6638    4.416688\n",
              "6639    5.767004\n",
              "6640    5.000000\n",
              "6641    5.000000\n",
              "Name: pIC50, Length: 6641, dtype: float64"
            ]
          },
          "execution_count": 28,
          "metadata": {},
          "output_type": "execute_result"
        }
      ],
      "source": [
        "Y"
      ]
    },
    {
      "cell_type": "markdown",
      "metadata": {
        "colab_type": "text",
        "id": "E-zGSqXohSwx"
      },
      "source": [
        "### **3.3. Let's examine the data dimension**"
      ]
    },
    {
      "cell_type": "code",
      "execution_count": 29,
      "metadata": {},
      "outputs": [
        {
          "name": "stdout",
          "output_type": "stream",
          "text": [
            "X shape before selection: (6641, 881)\n",
            "Y shape: (6641,)\n"
          ]
        }
      ],
      "source": [
        "print(\"X shape before selection:\", X.shape)\n",
        "print(\"Y shape:\", Y.shape)"
      ]
    },
    {
      "cell_type": "code",
      "execution_count": 30,
      "metadata": {
        "colab": {
          "base_uri": "https://localhost:8080/",
          "height": 34
        },
        "colab_type": "code",
        "id": "nhT04XtLhSwx",
        "outputId": "0e36315c-a8c1-4d11-8e99-8a92038ff80d"
      },
      "outputs": [
        {
          "data": {
            "text/plain": [
              "(6641, 881)"
            ]
          },
          "execution_count": 30,
          "metadata": {},
          "output_type": "execute_result"
        }
      ],
      "source": [
        "X.shape"
      ]
    },
    {
      "cell_type": "code",
      "execution_count": 31,
      "metadata": {
        "colab": {
          "base_uri": "https://localhost:8080/",
          "height": 34
        },
        "colab_type": "code",
        "id": "uzQlK8gNhSw0",
        "outputId": "6526f2b6-8875-49f4-bd38-dc2db7225e52"
      },
      "outputs": [
        {
          "data": {
            "text/plain": [
              "(6641,)"
            ]
          },
          "execution_count": 31,
          "metadata": {},
          "output_type": "execute_result"
        }
      ],
      "source": [
        "Y.shape"
      ]
    },
    {
      "cell_type": "markdown",
      "metadata": {
        "colab_type": "text",
        "id": "0qQCpX097qf_"
      },
      "source": [
        "### **3.4. Remove low variance features**"
      ]
    },
    {
      "cell_type": "code",
      "execution_count": 32,
      "metadata": {
        "colab": {},
        "colab_type": "code",
        "id": "rjHK2SoI7tXI"
      },
      "outputs": [
        {
          "name": "stdout",
          "output_type": "stream",
          "text": [
            "X shape after selection: (6641, 144)\n"
          ]
        }
      ],
      "source": [
        "# 6. Feature selection - Remove low variance features\n",
        "selector = VarianceThreshold(threshold=(.8 * (1 - .8)))    \n",
        "X = selector.fit_transform(X)\n",
        "print(\"X shape after selection:\", X.shape)"
      ]
    },
    {
      "cell_type": "code",
      "execution_count": 33,
      "metadata": {
        "colab": {
          "base_uri": "https://localhost:8080/",
          "height": 34
        },
        "colab_type": "code",
        "id": "nXcpQh_s8nx7",
        "outputId": "cb3a135a-9b96-4f69-bb28-538ae4be7d5d"
      },
      "outputs": [
        {
          "data": {
            "text/plain": [
              "(6641, 144)"
            ]
          },
          "execution_count": 33,
          "metadata": {},
          "output_type": "execute_result"
        }
      ],
      "source": [
        "X.shape"
      ]
    },
    {
      "cell_type": "markdown",
      "metadata": {
        "colab_type": "text",
        "id": "AjhOlkOVhSxR"
      },
      "source": [
        "## **4. Data split (80/20 ratio)**"
      ]
    },
    {
      "cell_type": "code",
      "execution_count": 34,
      "metadata": {
        "colab": {},
        "colab_type": "code",
        "id": "M1Bmg1HWhSxR"
      },
      "outputs": [],
      "source": [
        "# 7. Train-test split\n",
        "X_train, X_test, Y_train, Y_test = train_test_split(\n",
        "    X, Y, test_size=0.2, random_state=42\n",
        ")"
      ]
    },
    {
      "cell_type": "code",
      "execution_count": 35,
      "metadata": {
        "colab": {
          "base_uri": "https://localhost:8080/",
          "height": 34
        },
        "colab_type": "code",
        "id": "uz1o3c1LhSxU",
        "outputId": "dc0b23f3-eebc-4159-ae71-6d9e27ce9e26"
      },
      "outputs": [
        {
          "name": "stdout",
          "output_type": "stream",
          "text": [
            "Train shapes: (5312, 144) (5312,)\n",
            "Test shapes: (1329, 144) (1329,)\n"
          ]
        }
      ],
      "source": [
        "print(\"Train shapes:\", X_train.shape, Y_train.shape)\n",
        "print(\"Test shapes:\", X_test.shape, Y_test.shape)"
      ]
    },
    {
      "cell_type": "markdown",
      "metadata": {
        "colab_type": "text",
        "id": "PYsE-tIAhSw3"
      },
      "source": [
        "## **5. Building a Regression Model using Random Forest**"
      ]
    },
    {
      "cell_type": "code",
      "execution_count": 36,
      "metadata": {
        "colab": {
          "base_uri": "https://localhost:8080/",
          "height": 34
        },
        "colab_type": "code",
        "id": "YHM3DCD5wuNe",
        "outputId": "42a4752a-c4ea-414d-ac19-dff9c64cfbcb"
      },
      "outputs": [
        {
          "data": {
            "text/html": [
              "<style>#sk-container-id-1 {\n",
              "  /* Definition of color scheme common for light and dark mode */\n",
              "  --sklearn-color-text: #000;\n",
              "  --sklearn-color-text-muted: #666;\n",
              "  --sklearn-color-line: gray;\n",
              "  /* Definition of color scheme for unfitted estimators */\n",
              "  --sklearn-color-unfitted-level-0: #fff5e6;\n",
              "  --sklearn-color-unfitted-level-1: #f6e4d2;\n",
              "  --sklearn-color-unfitted-level-2: #ffe0b3;\n",
              "  --sklearn-color-unfitted-level-3: chocolate;\n",
              "  /* Definition of color scheme for fitted estimators */\n",
              "  --sklearn-color-fitted-level-0: #f0f8ff;\n",
              "  --sklearn-color-fitted-level-1: #d4ebff;\n",
              "  --sklearn-color-fitted-level-2: #b3dbfd;\n",
              "  --sklearn-color-fitted-level-3: cornflowerblue;\n",
              "\n",
              "  /* Specific color for light theme */\n",
              "  --sklearn-color-text-on-default-background: var(--sg-text-color, var(--theme-code-foreground, var(--jp-content-font-color1, black)));\n",
              "  --sklearn-color-background: var(--sg-background-color, var(--theme-background, var(--jp-layout-color0, white)));\n",
              "  --sklearn-color-border-box: var(--sg-text-color, var(--theme-code-foreground, var(--jp-content-font-color1, black)));\n",
              "  --sklearn-color-icon: #696969;\n",
              "\n",
              "  @media (prefers-color-scheme: dark) {\n",
              "    /* Redefinition of color scheme for dark theme */\n",
              "    --sklearn-color-text-on-default-background: var(--sg-text-color, var(--theme-code-foreground, var(--jp-content-font-color1, white)));\n",
              "    --sklearn-color-background: var(--sg-background-color, var(--theme-background, var(--jp-layout-color0, #111)));\n",
              "    --sklearn-color-border-box: var(--sg-text-color, var(--theme-code-foreground, var(--jp-content-font-color1, white)));\n",
              "    --sklearn-color-icon: #878787;\n",
              "  }\n",
              "}\n",
              "\n",
              "#sk-container-id-1 {\n",
              "  color: var(--sklearn-color-text);\n",
              "}\n",
              "\n",
              "#sk-container-id-1 pre {\n",
              "  padding: 0;\n",
              "}\n",
              "\n",
              "#sk-container-id-1 input.sk-hidden--visually {\n",
              "  border: 0;\n",
              "  clip: rect(1px 1px 1px 1px);\n",
              "  clip: rect(1px, 1px, 1px, 1px);\n",
              "  height: 1px;\n",
              "  margin: -1px;\n",
              "  overflow: hidden;\n",
              "  padding: 0;\n",
              "  position: absolute;\n",
              "  width: 1px;\n",
              "}\n",
              "\n",
              "#sk-container-id-1 div.sk-dashed-wrapped {\n",
              "  border: 1px dashed var(--sklearn-color-line);\n",
              "  margin: 0 0.4em 0.5em 0.4em;\n",
              "  box-sizing: border-box;\n",
              "  padding-bottom: 0.4em;\n",
              "  background-color: var(--sklearn-color-background);\n",
              "}\n",
              "\n",
              "#sk-container-id-1 div.sk-container {\n",
              "  /* jupyter's `normalize.less` sets `[hidden] { display: none; }`\n",
              "     but bootstrap.min.css set `[hidden] { display: none !important; }`\n",
              "     so we also need the `!important` here to be able to override the\n",
              "     default hidden behavior on the sphinx rendered scikit-learn.org.\n",
              "     See: https://github.com/scikit-learn/scikit-learn/issues/21755 */\n",
              "  display: inline-block !important;\n",
              "  position: relative;\n",
              "}\n",
              "\n",
              "#sk-container-id-1 div.sk-text-repr-fallback {\n",
              "  display: none;\n",
              "}\n",
              "\n",
              "div.sk-parallel-item,\n",
              "div.sk-serial,\n",
              "div.sk-item {\n",
              "  /* draw centered vertical line to link estimators */\n",
              "  background-image: linear-gradient(var(--sklearn-color-text-on-default-background), var(--sklearn-color-text-on-default-background));\n",
              "  background-size: 2px 100%;\n",
              "  background-repeat: no-repeat;\n",
              "  background-position: center center;\n",
              "}\n",
              "\n",
              "/* Parallel-specific style estimator block */\n",
              "\n",
              "#sk-container-id-1 div.sk-parallel-item::after {\n",
              "  content: \"\";\n",
              "  width: 100%;\n",
              "  border-bottom: 2px solid var(--sklearn-color-text-on-default-background);\n",
              "  flex-grow: 1;\n",
              "}\n",
              "\n",
              "#sk-container-id-1 div.sk-parallel {\n",
              "  display: flex;\n",
              "  align-items: stretch;\n",
              "  justify-content: center;\n",
              "  background-color: var(--sklearn-color-background);\n",
              "  position: relative;\n",
              "}\n",
              "\n",
              "#sk-container-id-1 div.sk-parallel-item {\n",
              "  display: flex;\n",
              "  flex-direction: column;\n",
              "}\n",
              "\n",
              "#sk-container-id-1 div.sk-parallel-item:first-child::after {\n",
              "  align-self: flex-end;\n",
              "  width: 50%;\n",
              "}\n",
              "\n",
              "#sk-container-id-1 div.sk-parallel-item:last-child::after {\n",
              "  align-self: flex-start;\n",
              "  width: 50%;\n",
              "}\n",
              "\n",
              "#sk-container-id-1 div.sk-parallel-item:only-child::after {\n",
              "  width: 0;\n",
              "}\n",
              "\n",
              "/* Serial-specific style estimator block */\n",
              "\n",
              "#sk-container-id-1 div.sk-serial {\n",
              "  display: flex;\n",
              "  flex-direction: column;\n",
              "  align-items: center;\n",
              "  background-color: var(--sklearn-color-background);\n",
              "  padding-right: 1em;\n",
              "  padding-left: 1em;\n",
              "}\n",
              "\n",
              "\n",
              "/* Toggleable style: style used for estimator/Pipeline/ColumnTransformer box that is\n",
              "clickable and can be expanded/collapsed.\n",
              "- Pipeline and ColumnTransformer use this feature and define the default style\n",
              "- Estimators will overwrite some part of the style using the `sk-estimator` class\n",
              "*/\n",
              "\n",
              "/* Pipeline and ColumnTransformer style (default) */\n",
              "\n",
              "#sk-container-id-1 div.sk-toggleable {\n",
              "  /* Default theme specific background. It is overwritten whether we have a\n",
              "  specific estimator or a Pipeline/ColumnTransformer */\n",
              "  background-color: var(--sklearn-color-background);\n",
              "}\n",
              "\n",
              "/* Toggleable label */\n",
              "#sk-container-id-1 label.sk-toggleable__label {\n",
              "  cursor: pointer;\n",
              "  display: flex;\n",
              "  width: 100%;\n",
              "  margin-bottom: 0;\n",
              "  padding: 0.5em;\n",
              "  box-sizing: border-box;\n",
              "  text-align: center;\n",
              "  align-items: start;\n",
              "  justify-content: space-between;\n",
              "  gap: 0.5em;\n",
              "}\n",
              "\n",
              "#sk-container-id-1 label.sk-toggleable__label .caption {\n",
              "  font-size: 0.6rem;\n",
              "  font-weight: lighter;\n",
              "  color: var(--sklearn-color-text-muted);\n",
              "}\n",
              "\n",
              "#sk-container-id-1 label.sk-toggleable__label-arrow:before {\n",
              "  /* Arrow on the left of the label */\n",
              "  content: \"▸\";\n",
              "  float: left;\n",
              "  margin-right: 0.25em;\n",
              "  color: var(--sklearn-color-icon);\n",
              "}\n",
              "\n",
              "#sk-container-id-1 label.sk-toggleable__label-arrow:hover:before {\n",
              "  color: var(--sklearn-color-text);\n",
              "}\n",
              "\n",
              "/* Toggleable content - dropdown */\n",
              "\n",
              "#sk-container-id-1 div.sk-toggleable__content {\n",
              "  max-height: 0;\n",
              "  max-width: 0;\n",
              "  overflow: hidden;\n",
              "  text-align: left;\n",
              "  /* unfitted */\n",
              "  background-color: var(--sklearn-color-unfitted-level-0);\n",
              "}\n",
              "\n",
              "#sk-container-id-1 div.sk-toggleable__content.fitted {\n",
              "  /* fitted */\n",
              "  background-color: var(--sklearn-color-fitted-level-0);\n",
              "}\n",
              "\n",
              "#sk-container-id-1 div.sk-toggleable__content pre {\n",
              "  margin: 0.2em;\n",
              "  border-radius: 0.25em;\n",
              "  color: var(--sklearn-color-text);\n",
              "  /* unfitted */\n",
              "  background-color: var(--sklearn-color-unfitted-level-0);\n",
              "}\n",
              "\n",
              "#sk-container-id-1 div.sk-toggleable__content.fitted pre {\n",
              "  /* unfitted */\n",
              "  background-color: var(--sklearn-color-fitted-level-0);\n",
              "}\n",
              "\n",
              "#sk-container-id-1 input.sk-toggleable__control:checked~div.sk-toggleable__content {\n",
              "  /* Expand drop-down */\n",
              "  max-height: 200px;\n",
              "  max-width: 100%;\n",
              "  overflow: auto;\n",
              "}\n",
              "\n",
              "#sk-container-id-1 input.sk-toggleable__control:checked~label.sk-toggleable__label-arrow:before {\n",
              "  content: \"▾\";\n",
              "}\n",
              "\n",
              "/* Pipeline/ColumnTransformer-specific style */\n",
              "\n",
              "#sk-container-id-1 div.sk-label input.sk-toggleable__control:checked~label.sk-toggleable__label {\n",
              "  color: var(--sklearn-color-text);\n",
              "  background-color: var(--sklearn-color-unfitted-level-2);\n",
              "}\n",
              "\n",
              "#sk-container-id-1 div.sk-label.fitted input.sk-toggleable__control:checked~label.sk-toggleable__label {\n",
              "  background-color: var(--sklearn-color-fitted-level-2);\n",
              "}\n",
              "\n",
              "/* Estimator-specific style */\n",
              "\n",
              "/* Colorize estimator box */\n",
              "#sk-container-id-1 div.sk-estimator input.sk-toggleable__control:checked~label.sk-toggleable__label {\n",
              "  /* unfitted */\n",
              "  background-color: var(--sklearn-color-unfitted-level-2);\n",
              "}\n",
              "\n",
              "#sk-container-id-1 div.sk-estimator.fitted input.sk-toggleable__control:checked~label.sk-toggleable__label {\n",
              "  /* fitted */\n",
              "  background-color: var(--sklearn-color-fitted-level-2);\n",
              "}\n",
              "\n",
              "#sk-container-id-1 div.sk-label label.sk-toggleable__label,\n",
              "#sk-container-id-1 div.sk-label label {\n",
              "  /* The background is the default theme color */\n",
              "  color: var(--sklearn-color-text-on-default-background);\n",
              "}\n",
              "\n",
              "/* On hover, darken the color of the background */\n",
              "#sk-container-id-1 div.sk-label:hover label.sk-toggleable__label {\n",
              "  color: var(--sklearn-color-text);\n",
              "  background-color: var(--sklearn-color-unfitted-level-2);\n",
              "}\n",
              "\n",
              "/* Label box, darken color on hover, fitted */\n",
              "#sk-container-id-1 div.sk-label.fitted:hover label.sk-toggleable__label.fitted {\n",
              "  color: var(--sklearn-color-text);\n",
              "  background-color: var(--sklearn-color-fitted-level-2);\n",
              "}\n",
              "\n",
              "/* Estimator label */\n",
              "\n",
              "#sk-container-id-1 div.sk-label label {\n",
              "  font-family: monospace;\n",
              "  font-weight: bold;\n",
              "  display: inline-block;\n",
              "  line-height: 1.2em;\n",
              "}\n",
              "\n",
              "#sk-container-id-1 div.sk-label-container {\n",
              "  text-align: center;\n",
              "}\n",
              "\n",
              "/* Estimator-specific */\n",
              "#sk-container-id-1 div.sk-estimator {\n",
              "  font-family: monospace;\n",
              "  border: 1px dotted var(--sklearn-color-border-box);\n",
              "  border-radius: 0.25em;\n",
              "  box-sizing: border-box;\n",
              "  margin-bottom: 0.5em;\n",
              "  /* unfitted */\n",
              "  background-color: var(--sklearn-color-unfitted-level-0);\n",
              "}\n",
              "\n",
              "#sk-container-id-1 div.sk-estimator.fitted {\n",
              "  /* fitted */\n",
              "  background-color: var(--sklearn-color-fitted-level-0);\n",
              "}\n",
              "\n",
              "/* on hover */\n",
              "#sk-container-id-1 div.sk-estimator:hover {\n",
              "  /* unfitted */\n",
              "  background-color: var(--sklearn-color-unfitted-level-2);\n",
              "}\n",
              "\n",
              "#sk-container-id-1 div.sk-estimator.fitted:hover {\n",
              "  /* fitted */\n",
              "  background-color: var(--sklearn-color-fitted-level-2);\n",
              "}\n",
              "\n",
              "/* Specification for estimator info (e.g. \"i\" and \"?\") */\n",
              "\n",
              "/* Common style for \"i\" and \"?\" */\n",
              "\n",
              ".sk-estimator-doc-link,\n",
              "a:link.sk-estimator-doc-link,\n",
              "a:visited.sk-estimator-doc-link {\n",
              "  float: right;\n",
              "  font-size: smaller;\n",
              "  line-height: 1em;\n",
              "  font-family: monospace;\n",
              "  background-color: var(--sklearn-color-background);\n",
              "  border-radius: 1em;\n",
              "  height: 1em;\n",
              "  width: 1em;\n",
              "  text-decoration: none !important;\n",
              "  margin-left: 0.5em;\n",
              "  text-align: center;\n",
              "  /* unfitted */\n",
              "  border: var(--sklearn-color-unfitted-level-1) 1pt solid;\n",
              "  color: var(--sklearn-color-unfitted-level-1);\n",
              "}\n",
              "\n",
              ".sk-estimator-doc-link.fitted,\n",
              "a:link.sk-estimator-doc-link.fitted,\n",
              "a:visited.sk-estimator-doc-link.fitted {\n",
              "  /* fitted */\n",
              "  border: var(--sklearn-color-fitted-level-1) 1pt solid;\n",
              "  color: var(--sklearn-color-fitted-level-1);\n",
              "}\n",
              "\n",
              "/* On hover */\n",
              "div.sk-estimator:hover .sk-estimator-doc-link:hover,\n",
              ".sk-estimator-doc-link:hover,\n",
              "div.sk-label-container:hover .sk-estimator-doc-link:hover,\n",
              ".sk-estimator-doc-link:hover {\n",
              "  /* unfitted */\n",
              "  background-color: var(--sklearn-color-unfitted-level-3);\n",
              "  color: var(--sklearn-color-background);\n",
              "  text-decoration: none;\n",
              "}\n",
              "\n",
              "div.sk-estimator.fitted:hover .sk-estimator-doc-link.fitted:hover,\n",
              ".sk-estimator-doc-link.fitted:hover,\n",
              "div.sk-label-container:hover .sk-estimator-doc-link.fitted:hover,\n",
              ".sk-estimator-doc-link.fitted:hover {\n",
              "  /* fitted */\n",
              "  background-color: var(--sklearn-color-fitted-level-3);\n",
              "  color: var(--sklearn-color-background);\n",
              "  text-decoration: none;\n",
              "}\n",
              "\n",
              "/* Span, style for the box shown on hovering the info icon */\n",
              ".sk-estimator-doc-link span {\n",
              "  display: none;\n",
              "  z-index: 9999;\n",
              "  position: relative;\n",
              "  font-weight: normal;\n",
              "  right: .2ex;\n",
              "  padding: .5ex;\n",
              "  margin: .5ex;\n",
              "  width: min-content;\n",
              "  min-width: 20ex;\n",
              "  max-width: 50ex;\n",
              "  color: var(--sklearn-color-text);\n",
              "  box-shadow: 2pt 2pt 4pt #999;\n",
              "  /* unfitted */\n",
              "  background: var(--sklearn-color-unfitted-level-0);\n",
              "  border: .5pt solid var(--sklearn-color-unfitted-level-3);\n",
              "}\n",
              "\n",
              ".sk-estimator-doc-link.fitted span {\n",
              "  /* fitted */\n",
              "  background: var(--sklearn-color-fitted-level-0);\n",
              "  border: var(--sklearn-color-fitted-level-3);\n",
              "}\n",
              "\n",
              ".sk-estimator-doc-link:hover span {\n",
              "  display: block;\n",
              "}\n",
              "\n",
              "/* \"?\"-specific style due to the `<a>` HTML tag */\n",
              "\n",
              "#sk-container-id-1 a.estimator_doc_link {\n",
              "  float: right;\n",
              "  font-size: 1rem;\n",
              "  line-height: 1em;\n",
              "  font-family: monospace;\n",
              "  background-color: var(--sklearn-color-background);\n",
              "  border-radius: 1rem;\n",
              "  height: 1rem;\n",
              "  width: 1rem;\n",
              "  text-decoration: none;\n",
              "  /* unfitted */\n",
              "  color: var(--sklearn-color-unfitted-level-1);\n",
              "  border: var(--sklearn-color-unfitted-level-1) 1pt solid;\n",
              "}\n",
              "\n",
              "#sk-container-id-1 a.estimator_doc_link.fitted {\n",
              "  /* fitted */\n",
              "  border: var(--sklearn-color-fitted-level-1) 1pt solid;\n",
              "  color: var(--sklearn-color-fitted-level-1);\n",
              "}\n",
              "\n",
              "/* On hover */\n",
              "#sk-container-id-1 a.estimator_doc_link:hover {\n",
              "  /* unfitted */\n",
              "  background-color: var(--sklearn-color-unfitted-level-3);\n",
              "  color: var(--sklearn-color-background);\n",
              "  text-decoration: none;\n",
              "}\n",
              "\n",
              "#sk-container-id-1 a.estimator_doc_link.fitted:hover {\n",
              "  /* fitted */\n",
              "  background-color: var(--sklearn-color-fitted-level-3);\n",
              "}\n",
              "</style><div id=\"sk-container-id-1\" class=\"sk-top-container\"><div class=\"sk-text-repr-fallback\"><pre>RandomForestRegressor(random_state=42)</pre><b>In a Jupyter environment, please rerun this cell to show the HTML representation or trust the notebook. <br />On GitHub, the HTML representation is unable to render, please try loading this page with nbviewer.org.</b></div><div class=\"sk-container\" hidden><div class=\"sk-item\"><div class=\"sk-estimator fitted sk-toggleable\"><input class=\"sk-toggleable__control sk-hidden--visually\" id=\"sk-estimator-id-1\" type=\"checkbox\" checked><label for=\"sk-estimator-id-1\" class=\"sk-toggleable__label fitted sk-toggleable__label-arrow\"><div><div>RandomForestRegressor</div></div><div><a class=\"sk-estimator-doc-link fitted\" rel=\"noreferrer\" target=\"_blank\" href=\"https://scikit-learn.org/1.6/modules/generated/sklearn.ensemble.RandomForestRegressor.html\">?<span>Documentation for RandomForestRegressor</span></a><span class=\"sk-estimator-doc-link fitted\">i<span>Fitted</span></span></div></label><div class=\"sk-toggleable__content fitted\"><pre>RandomForestRegressor(random_state=42)</pre></div> </div></div></div></div>"
            ],
            "text/plain": [
              "RandomForestRegressor(random_state=42)"
            ]
          },
          "execution_count": 36,
          "metadata": {},
          "output_type": "execute_result"
        }
      ],
      "source": [
        "#  Build Random Forest model\n",
        "model = RandomForestRegressor(n_estimators=100, random_state=42)\n",
        "model.fit(X_train, Y_train)"
      ]
    },
    {
      "cell_type": "code",
      "execution_count": null,
      "metadata": {},
      "outputs": [],
      "source": [
        "from sklearn.ensemble import GradientBoostingRegressor\n",
        "from xgboost import XGBRegressor\n",
        "from lightgbm import LGBMRegressor\n",
        "\n",
        "# Example: XGBoost\n",
        "model = XGBRegressor(n_estimators=500, learning_rate=0.05, max_depth=6, random_state=42)\n",
        "model.fit(X_train, Y_train)\n",
        "r2 = model.score(X_test, Y_test)\n",
        "print(\"R²:\", r2)\n"
      ]
    },
    {
      "cell_type": "code",
      "execution_count": 37,
      "metadata": {
        "colab": {},
        "colab_type": "code",
        "id": "A4Rv5wdQ1M6H"
      },
      "outputs": [],
      "source": [
        "# Predictions & Evaluation\n",
        "Y_pred = model.predict(X_test)\n",
        "r2 = r2_score(Y_test, Y_pred)\n",
        "rmse = np.sqrt(mean_squared_error(Y_test, Y_pred))"
      ]
    },
    {
      "cell_type": "code",
      "execution_count": 38,
      "metadata": {},
      "outputs": [
        {
          "name": "stdout",
          "output_type": "stream",
          "text": [
            "R² score: 0.382353884340785\n",
            "RMSE: 1.2181615522061995\n"
          ]
        }
      ],
      "source": [
        "print(\"R² score:\", r2)\n",
        "print(\"RMSE:\", rmse)"
      ]
    },
    {
      "cell_type": "code",
      "execution_count": 39,
      "metadata": {},
      "outputs": [],
      "source": [
        "# Feature importance\n",
        "importances = model.feature_importances_\n",
        "indices = np.argsort(importances)[::-1][:10]  # Top 10"
      ]
    },
    {
      "cell_type": "markdown",
      "metadata": {
        "colab_type": "text",
        "id": "LoLgjePyUXcv"
      },
      "source": [
        "## **6. Scatter Plot of Experimental vs Predicted pIC50 Values**"
      ]
    },
    {
      "cell_type": "code",
      "execution_count": 43,
      "metadata": {},
      "outputs": [
        {
          "data": {
            "image/png": "[encoded data removed]",
            "text/plain": [
              "<Figure size 640x480 with 1 Axes>"
            ]
          },
          "metadata": {},
          "output_type": "display_data"
        }
      ],
      "source": [
        "ax = sns.regplot(\n",
        "    x=Y_test, \n",
        "    y=Y_pred, \n",
        "    scatter_kws={'alpha': 0.4}\n",
        ")    "
      ]
    },
    {
      "cell_type": "code",
      "execution_count": 44,
      "metadata": {
        "colab": {
          "base_uri": "https://localhost:8080/",
          "height": 361
        },
        "colab_type": "code",
        "id": "hfqpfjxw3IAK",
        "outputId": "7206a3c7-eff9-4617-e9d9-d54dd0cfd29c"
      },
      "outputs": [
        {
          "data": {
            "image/png": "[encoded data removed]",
            "text/plain": [
              "<Figure size 500x500 with 1 Axes>"
            ]
          },
          "metadata": {},
          "output_type": "display_data"
        }
      ],
      "source": [
        "import seaborn as sns\n",
        "import matplotlib.pyplot as plt\n",
        "\n",
        "sns.set(color_codes=True)\n",
        "sns.set_style(\"white\")\n",
        "\n",
        "ax = sns.regplot(\n",
        "    x=Y_test, \n",
        "    y=Y_pred, \n",
        "    scatter_kws={'alpha': 0.4}\n",
        ")\n",
        "ax.set_xlabel('Experimental pIC50', fontsize='large', fontweight='bold')\n",
        "ax.set_ylabel('Predicted pIC50', fontsize='large', fontweight='bold')\n",
        "ax.set_xlim(0, 12)\n",
        "ax.set_ylim(0, 12)\n",
        "ax.figure.set_size_inches(5, 5)\n",
        "\n",
        "plt.show()\n"
      ]
    },
    {
      "cell_type": "code",
      "execution_count": 48,
      "metadata": {},
      "outputs": [
        {
          "name": "stdout",
          "output_type": "stream",
          "text": [
            "Requirement already satisfied: bokeh in /Library/Frameworks/Python.framework/Versions/3.10/lib/python3.10/site-packages (3.7.3)\n",
            "Requirement already satisfied: Jinja2>=2.9 in /Library/Frameworks/Python.framework/Versions/3.10/lib/python3.10/site-packages (from bokeh) (3.1.4)\n",
            "Requirement already satisfied: contourpy>=1.2 in /Library/Frameworks/Python.framework/Versions/3.10/lib/python3.10/site-packages (from bokeh) (1.3.1)\n",
            "Requirement already satisfied: narwhals>=1.13 in /Library/Frameworks/Python.framework/Versions/3.10/lib/python3.10/site-packages (from bokeh) (1.42.1)\n",
            "Requirement already satisfied: numpy>=1.16 in /Library/Frameworks/Python.framework/Versions/3.10/lib/python3.10/site-packages (from bokeh) (2.2.6)\n",
            "Requirement already satisfied: packaging>=16.8 in /Library/Frameworks/Python.framework/Versions/3.10/lib/python3.10/site-packages (from bokeh) (25.0)\n",
            "Requirement already satisfied: pandas>=1.2 in /Library/Frameworks/Python.framework/Versions/3.10/lib/python3.10/site-packages (from bokeh) (2.2.2)\n",
            "Requirement already satisfied: pillow>=7.1.0 in /Library/Frameworks/Python.framework/Versions/3.10/lib/python3.10/site-packages (from bokeh) (10.2.0)\n",
            "Requirement already satisfied: PyYAML>=3.10 in /Library/Frameworks/Python.framework/Versions/3.10/lib/python3.10/site-packages (from bokeh) (6.0.2)\n",
            "Requirement already satisfied: tornado>=6.2 in /Users/jatindangi/Library/Python/3.10/lib/python/site-packages (from bokeh) (6.3)\n",
            "Requirement already satisfied: xyzservices>=2021.09.1 in /Library/Frameworks/Python.framework/Versions/3.10/lib/python3.10/site-packages (from bokeh) (2025.4.0)\n",
            "Requirement already satisfied: MarkupSafe>=2.0 in /Library/Frameworks/Python.framework/Versions/3.10/lib/python3.10/site-packages (from Jinja2>=2.9->bokeh) (2.1.3)\n",
            "Requirement already satisfied: python-dateutil>=2.8.2 in /Users/jatindangi/Library/Python/3.10/lib/python/site-packages (from pandas>=1.2->bokeh) (2.8.2)\n",
            "Requirement already satisfied: pytz>=2020.1 in /Library/Frameworks/Python.framework/Versions/3.10/lib/python3.10/site-packages (from pandas>=1.2->bokeh) (2024.1)\n",
            "Requirement already satisfied: tzdata>=2022.7 in /Library/Frameworks/Python.framework/Versions/3.10/lib/python3.10/site-packages (from pandas>=1.2->bokeh) (2024.1)\n",
            "Requirement already satisfied: six>=1.5 in /Library/Frameworks/Python.framework/Versions/3.10/lib/python3.10/site-packages (from python-dateutil>=2.8.2->pandas>=1.2->bokeh) (1.16.0)\n",
            "\n",
            "\u001b[1m[\u001b[0m\u001b[34;49mnotice\u001b[0m\u001b[1;39;49m]\u001b[0m\u001b[39;49m A new release of pip is available: \u001b[0m\u001b[31;49m25.1.1\u001b[0m\u001b[39;49m -> \u001b[0m\u001b[32;49m25.2\u001b[0m\n",
            "\u001b[1m[\u001b[0m\u001b[34;49mnotice\u001b[0m\u001b[1;39;49m]\u001b[0m\u001b[39;49m To update, run: \u001b[0m\u001b[32;49mpip install --upgrade pip\u001b[0m\n"
          ]
        }
      ],
      "source": [
        "! pip install bokeh"
      ]
    },
    {
      "cell_type": "code",
      "execution_count": 50,
      "metadata": {},
      "outputs": [
        {
          "name": "stdout",
          "output_type": "stream",
          "text": [
            "Requirement already satisfied: bokeh in /Library/Frameworks/Python.framework/Versions/3.10/lib/python3.10/site-packages (3.7.3)\n",
            "Requirement already satisfied: Jinja2>=2.9 in /Library/Frameworks/Python.framework/Versions/3.10/lib/python3.10/site-packages (from bokeh) (3.1.4)\n",
            "Requirement already satisfied: contourpy>=1.2 in /Library/Frameworks/Python.framework/Versions/3.10/lib/python3.10/site-packages (from bokeh) (1.3.1)\n",
            "Requirement already satisfied: narwhals>=1.13 in /Library/Frameworks/Python.framework/Versions/3.10/lib/python3.10/site-packages (from bokeh) (1.42.1)\n",
            "Requirement already satisfied: numpy>=1.16 in /Library/Frameworks/Python.framework/Versions/3.10/lib/python3.10/site-packages (from bokeh) (2.2.6)\n",
            "Requirement already satisfied: packaging>=16.8 in /Library/Frameworks/Python.framework/Versions/3.10/lib/python3.10/site-packages (from bokeh) (25.0)\n",
            "Requirement already satisfied: pandas>=1.2 in /Library/Frameworks/Python.framework/Versions/3.10/lib/python3.10/site-packages (from bokeh) (2.2.2)\n",
            "Requirement already satisfied: pillow>=7.1.0 in /Library/Frameworks/Python.framework/Versions/3.10/lib/python3.10/site-packages (from bokeh) (10.2.0)\n",
            "Requirement already satisfied: PyYAML>=3.10 in /Library/Frameworks/Python.framework/Versions/3.10/lib/python3.10/site-packages (from bokeh) (6.0.2)\n",
            "Requirement already satisfied: tornado>=6.2 in /Users/jatindangi/Library/Python/3.10/lib/python/site-packages (from bokeh) (6.3)\n",
            "Requirement already satisfied: xyzservices>=2021.09.1 in /Library/Frameworks/Python.framework/Versions/3.10/lib/python3.10/site-packages (from bokeh) (2025.4.0)\n",
            "Requirement already satisfied: MarkupSafe>=2.0 in /Library/Frameworks/Python.framework/Versions/3.10/lib/python3.10/site-packages (from Jinja2>=2.9->bokeh) (2.1.3)\n",
            "Requirement already satisfied: python-dateutil>=2.8.2 in /Users/jatindangi/Library/Python/3.10/lib/python/site-packages (from pandas>=1.2->bokeh) (2.8.2)\n",
            "Requirement already satisfied: pytz>=2020.1 in /Library/Frameworks/Python.framework/Versions/3.10/lib/python3.10/site-packages (from pandas>=1.2->bokeh) (2024.1)\n",
            "Requirement already satisfied: tzdata>=2022.7 in /Library/Frameworks/Python.framework/Versions/3.10/lib/python3.10/site-packages (from pandas>=1.2->bokeh) (2024.1)\n",
            "Requirement already satisfied: six>=1.5 in /Library/Frameworks/Python.framework/Versions/3.10/lib/python3.10/site-packages (from python-dateutil>=2.8.2->pandas>=1.2->bokeh) (1.16.0)\n",
            "\n",
            "\u001b[1m[\u001b[0m\u001b[34;49mnotice\u001b[0m\u001b[1;39;49m]\u001b[0m\u001b[39;49m A new release of pip is available: \u001b[0m\u001b[31;49m25.1.1\u001b[0m\u001b[39;49m -> \u001b[0m\u001b[32;49m25.2\u001b[0m\n",
            "\u001b[1m[\u001b[0m\u001b[34;49mnotice\u001b[0m\u001b[1;39;49m]\u001b[0m\u001b[39;49m To update, run: \u001b[0m\u001b[32;49mpip install --upgrade pip\u001b[0m\n",
            "Note: you may need to restart the kernel to use updated packages.\n"
          ]
        },
        {
          "data": {
            "text/html": [
              "    <style>\n",
              "        .bk-notebook-logo {\n",
              "            display: block;\n",
              "            width: 20px;\n",
              "            height: 20px;\n",
              "            background-image: url(data:image/png;base64,iVBORw0KGgoAAAANSUhEUgAAABQAAAAUCAYAAACNiR0NAAAABHNCSVQICAgIfAhkiAAAAAlwSFlzAAALEgAACxIB0t1+/AAAABx0RVh0U29mdHdhcmUAQWRvYmUgRmlyZXdvcmtzIENTNui8sowAAAOkSURBVDiNjZRtaJVlGMd/1/08zzln5zjP1LWcU9N0NkN8m2CYjpgQYQXqSs0I84OLIC0hkEKoPtiH3gmKoiJDU7QpLgoLjLIQCpEsNJ1vqUOdO7ppbuec5+V+rj4ctwzd8IIbbi6u+8f1539dt3A78eXC7QizUF7gyV1fD1Yqg4JWz84yffhm0qkFqBogB9rM8tZdtwVsPUhWhGcFJngGeWrPzHm5oaMmkfEg1usvLFyc8jLRqDOMru7AyC8saQr7GG7f5fvDeH7Ej8CM66nIF+8yngt6HWaKh7k49Soy9nXurCi1o3qUbS3zWfrYeQDTB/Qj6kX6Ybhw4B+bOYoLKCC9H3Nu/leUTZ1JdRWkkn2ldcCamzrcf47KKXdAJllSlxAOkRgyHsGC/zRday5Qld9DyoM4/q/rUoy/CXh3jzOu3bHUVZeU+DEn8FInkPBFlu3+nW3Nw0mk6vCDiWg8CeJaxEwuHS3+z5RgY+YBR6V1Z1nxSOfoaPa4LASWxxdNp+VWTk7+4vzaou8v8PN+xo+KY2xsw6une2frhw05CTYOmQvsEhjhWjn0bmXPjpE1+kplmmkP3suftwTubK9Vq22qKmrBhpY4jvd5afdRA3wGjFAgcnTK2s4hY0/GPNIb0nErGMCRxWOOX64Z8RAC4oCXdklmEvcL8o0BfkNK4lUg9HTl+oPlQxdNo3Mg4Nv175e/1LDGzZen30MEjRUtmXSfiTVu1kK8W4txyV6BMKlbgk3lMwYCiusNy9fVfvvwMxv8Ynl6vxoByANLTWplvuj/nF9m2+PDtt1eiHPBr1oIfhCChQMBw6Aw0UulqTKZdfVvfG7VcfIqLG9bcldL/+pdWTLxLUy8Qq38heUIjh4XlzZxzQm19lLFlr8vdQ97rjZVOLf8nclzckbcD4wxXMidpX30sFd37Fv/GtwwhzhxGVAprjbg0gCAEeIgwCZyTV2Z1REEW8O4py0wsjeloKoMr6iCY6dP92H6Vw/oTyICIthibxjm/DfN9lVz8IqtqKYLUXfoKVMVQVVJOElGjrnnUt9T9wbgp8AyYKaGlqingHZU/uG2NTZSVqwHQTWkx9hxjkpWDaCg6Ckj5qebgBVbT3V3NNXMSiWSDdGV3hrtzla7J+duwPOToIg42ChPQOQjspnSlp1V+Gjdged7+8UN5CRAV7a5EdFNwCjEaBR27b3W890TE7g24NAP/mMDXRWrGoFPQI9ls/MWO2dWFAar/xcOIImbbpA3zgAAAABJRU5ErkJggg==);\n",
              "        }\n",
              "    </style>\n",
              "    <div>\n",
              "        <a href=\"https://bokeh.org\" target=\"_blank\" class=\"bk-notebook-logo\"></a>\n",
              "        <span id=\"cb27c0d6-a254-4597-9fae-5d062103ca6c\">Loading BokehJS ...</span>\n",
              "    </div>\n"
            ]
          },
          "metadata": {},
          "output_type": "display_data"
        },
        {
          "data": {
            "application/javascript": "'use strict';\n(function(root) {\n  function now() {\n    return new Date();\n  }\n\n  const force = true;\n\n  if (typeof root._bokeh_onload_callbacks === \"undefined\" || force === true) {\n    root._bokeh_onload_callbacks = [];\n    root._bokeh_is_loading = undefined;\n  }\n\nconst JS_MIME_TYPE = 'application/javascript';\n  const HTML_MIME_TYPE = 'text/html';\n  const EXEC_MIME_TYPE = 'application/vnd.bokehjs_exec.v0+json';\n  const CLASS_NAME = 'output_bokeh rendered_html';\n\n  /**\n   * Render data to the DOM node\n   */\n  function render(props, node) {\n    const script = document.createElement(\"script\");\n    node.appendChild(script);\n  }\n\n  /**\n   * Handle when an output is cleared or removed\n   */\n  function handleClearOutput(event, handle) {\n    function drop(id) {\n      const view = Bokeh.index.get_by_id(id)\n      if (view != null) {\n        view.model.document.clear()\n        Bokeh.index.delete(view)\n      }\n    }\n\n    const cell = handle.cell;\n\n    const id = cell.output_area._bokeh_element_id;\n    const server_id = cell.output_area._bokeh_server_id;\n\n    // Clean up Bokeh references\n    if (id != null) {\n      drop(id)\n    }\n\n    if (server_id !== undefined) {\n      // Clean up Bokeh references\n      const cmd_clean = \"from bokeh.io.state import curstate; print(curstate().uuid_to_server['\" + server_id + \"'].get_sessions()[0].document.roots[0]._id)\";\n      cell.notebook.kernel.execute(cmd_clean, {\n        iopub: {\n          output: function(msg) {\n            const id = msg.content.text.trim()\n            drop(id)\n          }\n        }\n      });\n      // Destroy server and session\n      const cmd_destroy = \"import bokeh.io.notebook as ion; ion.destroy_server('\" + server_id + \"')\";\n      cell.notebook.kernel.execute(cmd_destroy);\n    }\n  }\n\n  /**\n   * Handle when a new output is added\n   */\n  function handleAddOutput(event, handle) {\n    const output_area = handle.output_area;\n    const output = handle.output;\n\n    // limit handleAddOutput to display_data with EXEC_MIME_TYPE content only\n    if ((output.output_type != \"display_data\") || (!Object.prototype.hasOwnProperty.call(output.data, EXEC_MIME_TYPE))) {\n      return\n    }\n\n    const toinsert = output_area.element.find(\".\" + CLASS_NAME.split(' ')[0]);\n\n    if (output.metadata[EXEC_MIME_TYPE][\"id\"] !== undefined) {\n      toinsert[toinsert.length - 1].firstChild.textContent = output.data[JS_MIME_TYPE];\n      // store reference to embed id on output_area\n      output_area._bokeh_element_id = output.metadata[EXEC_MIME_TYPE][\"id\"];\n    }\n    if (output.metadata[EXEC_MIME_TYPE][\"server_id\"] !== undefined) {\n      const bk_div = document.createElement(\"div\");\n      bk_div.innerHTML = output.data[HTML_MIME_TYPE];\n      const script_attrs = bk_div.children[0].attributes;\n      for (let i = 0; i < script_attrs.length; i++) {\n        toinsert[toinsert.length - 1].firstChild.setAttribute(script_attrs[i].name, script_attrs[i].value);\n        toinsert[toinsert.length - 1].firstChild.textContent = bk_div.children[0].textContent\n      }\n      // store reference to server id on output_area\n      output_area._bokeh_server_id = output.metadata[EXEC_MIME_TYPE][\"server_id\"];\n    }\n  }\n\n  function register_renderer(events, OutputArea) {\n\n    function append_mime(data, metadata, element) {\n      // create a DOM node to render to\n      const toinsert = this.create_output_subarea(\n        metadata,\n        CLASS_NAME,\n        EXEC_MIME_TYPE\n      );\n      this.keyboard_manager.register_events(toinsert);\n      // Render to node\n      const props = {data: data, metadata: metadata[EXEC_MIME_TYPE]};\n      render(props, toinsert[toinsert.length - 1]);\n      element.append(toinsert);\n      return toinsert\n    }\n\n    /* Handle when an output is cleared or removed */\n    events.on('clear_output.CodeCell', handleClearOutput);\n    events.on('delete.Cell', handleClearOutput);\n\n    /* Handle when a new output is added */\n    events.on('output_added.OutputArea', handleAddOutput);\n\n    /**\n     * Register the mime type and append_mime function with output_area\n     */\n    OutputArea.prototype.register_mime_type(EXEC_MIME_TYPE, append_mime, {\n      /* Is output safe? */\n      safe: true,\n      /* Index of renderer in `output_area.display_order` */\n      index: 0\n    });\n  }\n\n  // register the mime type if in Jupyter Notebook environment and previously unregistered\n  if (root.Jupyter !== undefined) {\n    const events = require('base/js/events');\n    const OutputArea = require('notebook/js/outputarea').OutputArea;\n\n    if (OutputArea.prototype.mime_types().indexOf(EXEC_MIME_TYPE) == -1) {\n      register_renderer(events, OutputArea);\n    }\n  }\n  if (typeof (root._bokeh_timeout) === \"undefined\" || force === true) {\n    root._bokeh_timeout = Date.now() + 5000;\n    root._bokeh_failed_load = false;\n  }\n\n  const NB_LOAD_WARNING = {'data': {'text/html':\n     \"<div style='background-color: #fdd'>\\n\"+\n     \"<p>\\n\"+\n     \"BokehJS does not appear to have successfully loaded. If loading BokehJS from CDN, this \\n\"+\n     \"may be due to a slow or bad network connection. Possible fixes:\\n\"+\n     \"</p>\\n\"+\n     \"<ul>\\n\"+\n     \"<li>re-rerun `output_notebook()` to attempt to load from CDN again, or</li>\\n\"+\n     \"<li>use INLINE resources instead, as so:</li>\\n\"+\n     \"</ul>\\n\"+\n     \"<code>\\n\"+\n     \"from bokeh.resources import INLINE\\n\"+\n     \"output_notebook(resources=INLINE)\\n\"+\n     \"</code>\\n\"+\n     \"</div>\"}};\n\n  function display_loaded(error = null) {\n    const el = document.getElementById(\"cb27c0d6-a254-4597-9fae-5d062103ca6c\");\n    if (el != null) {\n      const html = (() => {\n        if (typeof root.Bokeh === \"undefined\") {\n          if (error == null) {\n            return \"BokehJS is loading ...\";\n          } else {\n            return \"BokehJS failed to load.\";\n          }\n        } else {\n          const prefix = `BokehJS ${root.Bokeh.version}`;\n          if (error == null) {\n            return `${prefix} successfully loaded.`;\n          } else {\n            return `${prefix} <b>encountered errors</b> while loading and may not function as expected.`;\n          }\n        }\n      })();\n      el.innerHTML = html;\n\n      if (error != null) {\n        const wrapper = document.createElement(\"div\");\n        wrapper.style.overflow = \"auto\";\n        wrapper.style.height = \"5em\";\n        wrapper.style.resize = \"vertical\";\n        const content = document.createElement(\"div\");\n        content.style.fontFamily = \"monospace\";\n        content.style.whiteSpace = \"pre-wrap\";\n        content.style.backgroundColor = \"rgb(255, 221, 221)\";\n        content.textContent = error.stack ?? error.toString();\n        wrapper.append(content);\n        el.append(wrapper);\n      }\n    } else if (Date.now() < root._bokeh_timeout) {\n      setTimeout(() => display_loaded(error), 100);\n    }\n  }\n\n  function run_callbacks() {\n    try {\n      root._bokeh_onload_callbacks.forEach(function(callback) {\n        if (callback != null)\n          callback();\n      });\n    } finally {\n      delete root._bokeh_onload_callbacks\n    }\n    console.debug(\"Bokeh: all callbacks have finished\");\n  }\n\n  function load_libs(css_urls, js_urls, callback) {\n    if (css_urls == null) css_urls = [];\n    if (js_urls == null) js_urls = [];\n\n    root._bokeh_onload_callbacks.push(callback);\n    if (root._bokeh_is_loading > 0) {\n      console.debug(\"Bokeh: BokehJS is being loaded, scheduling callback at\", now());\n      return null;\n    }\n    if (js_urls == null || js_urls.length === 0) {\n      run_callbacks();\n      return null;\n    }\n    console.debug(\"Bokeh: BokehJS not loaded, scheduling load and callback at\", now());\n    root._bokeh_is_loading = css_urls.length + js_urls.length;\n\n    function on_load() {\n      root._bokeh_is_loading--;\n      if (root._bokeh_is_loading === 0) {\n        console.debug(\"Bokeh: all BokehJS libraries/stylesheets loaded\");\n        run_callbacks()\n      }\n    }\n\n    function on_error(url) {\n      console.error(\"failed to load \" + url);\n    }\n\n    for (let i = 0; i < css_urls.length; i++) {\n      const url = css_urls[i];\n      const element = document.createElement(\"link\");\n      element.onload = on_load;\n      element.onerror = on_error.bind(null, url);\n      element.rel = \"stylesheet\";\n      element.type = \"text/css\";\n      element.href = url;\n      console.debug(\"Bokeh: injecting link tag for BokehJS stylesheet: \", url);\n      document.body.appendChild(element);\n    }\n\n    for (let i = 0; i < js_urls.length; i++) {\n      const url = js_urls[i];\n      const element = document.createElement('script');\n      element.onload = on_load;\n      element.onerror = on_error.bind(null, url);\n      element.async = false;\n      element.src = url;\n      console.debug(\"Bokeh: injecting script tag for BokehJS library: \", url);\n      document.head.appendChild(element);\n    }\n  };\n\n  function inject_raw_css(css) {\n    const element = document.createElement(\"style\");\n    element.appendChild(document.createTextNode(css));\n    document.body.appendChild(element);\n  }\n\n  const js_urls = [\"https://cdn.bokeh.org/bokeh/release/bokeh-3.7.3.min.js\", \"https://cdn.bokeh.org/bokeh/release/bokeh-gl-3.7.3.min.js\", \"https://cdn.bokeh.org/bokeh/release/bokeh-widgets-3.7.3.min.js\", \"https://cdn.bokeh.org/bokeh/release/bokeh-tables-3.7.3.min.js\", \"https://cdn.bokeh.org/bokeh/release/bokeh-mathjax-3.7.3.min.js\"];\n  const css_urls = [];\n\n  const inline_js = [    function(Bokeh) {\n      Bokeh.set_log_level(\"info\");\n    },\nfunction(Bokeh) {\n    }\n  ];\n\n  function run_inline_js() {\n    if (root.Bokeh !== undefined || force === true) {\n      try {\n            for (let i = 0; i < inline_js.length; i++) {\n      inline_js[i].call(root, root.Bokeh);\n    }\n\n      } catch (error) {display_loaded(error);throw error;\n      }if (force === true) {\n        display_loaded();\n      }} else if (Date.now() < root._bokeh_timeout) {\n      setTimeout(run_inline_js, 100);\n    } else if (!root._bokeh_failed_load) {\n      console.log(\"Bokeh: BokehJS failed to load within specified timeout.\");\n      root._bokeh_failed_load = true;\n    } else if (force !== true) {\n      const cell = $(document.getElementById(\"cb27c0d6-a254-4597-9fae-5d062103ca6c\")).parents('.cell').data().cell;\n      cell.output_area.append_execute_result(NB_LOAD_WARNING)\n    }\n  }\n\n  if (root._bokeh_is_loading === 0) {\n    console.debug(\"Bokeh: BokehJS loaded, going straight to plotting\");\n    run_inline_js();\n  } else {\n    load_libs(css_urls, js_urls, function() {\n      console.debug(\"Bokeh: BokehJS plotting callback run at\", now());\n      run_inline_js();\n    });\n  }\n}(window));",
            "application/vnd.bokehjs_load.v0+json": ""
          },
          "metadata": {},
          "output_type": "display_data"
        },
        {
          "name": "stderr",
          "output_type": "stream",
          "text": [
            "BokehDeprecationWarning: 'circle() method with size value' was deprecated in Bokeh 3.4.0 and will be removed, use 'scatter(size=...) instead' instead.\n"
          ]
        },
        {
          "data": {
            "text/html": [
              "\n",
              "  <div id=\"aa4b7a76-754e-45c9-8407-c24ecaa4c346\" data-root-id=\"p1107\" style=\"display: contents;\"></div>\n"
            ]
          },
          "metadata": {},
          "output_type": "display_data"
        },
        {
          "data": {
            "application/javascript": "(function(root) {\n  function embed_document(root) {\n  const docs_json = {\"aba12918-3227-42c9-8998-99e91021a08e\":{\"version\":\"3.7.3\",\"title\":\"Bokeh Application\",\"roots\":[{\"type\":\"object\",\"name\":\"Figure\",\"id\":\"p1107\",\"attributes\":{\"width\":700,\"height\":500,\"x_range\":{\"type\":\"object\",\"name\":\"DataRange1d\",\"id\":\"p1108\"},\"y_range\":{\"type\":\"object\",\"name\":\"DataRange1d\",\"id\":\"p1109\"},\"x_scale\":{\"type\":\"object\",\"name\":\"LinearScale\",\"id\":\"p1117\"},\"y_scale\":{\"type\":\"object\",\"name\":\"LinearScale\",\"id\":\"p1118\"},\"title\":{\"type\":\"object\",\"name\":\"Title\",\"id\":\"p1110\",\"attributes\":{\"text\":\"Experimental vs Predicted pIC50\"}},\"renderers\":[{\"type\":\"object\",\"name\":\"GlyphRenderer\",\"id\":\"p1148\",\"attributes\":{\"data_source\":{\"type\":\"object\",\"name\":\"ColumnDataSource\",\"id\":\"p1104\",\"attributes\":{\"selected\":{\"type\":\"object\",\"name\":\"Selection\",\"id\":\"p1105\",\"attributes\":{\"indices\":[],\"line_indices\":[]}},\"selection_policy\":{\"type\":\"object\",\"name\":\"UnionRenderers\",\"id\":\"p1106\"},\"data\":{\"type\":\"map\",\"entries\":[[\"index\",{\"type\":\"ndarray\",\"array\":{\"type\":\"bytes\",\"data\":\"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\"},\"shape\":[1329],\"dtype\":\"int32\",\"order\":\"little\"}],[\"Experimental\",{\"type\":\"ndarray\",\"array\":{\"type\":\"bytes\",\"data\":\"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\"},\"shape\":[1329],\"dtype\":\"float64\",\"order\":\"little\"}],[\"Predicted\",{\"type\":\"ndarray\",\"array\":{\"type\":\"bytes\",\"data\":\"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\"},\"shape\":[1329],\"dtype\":\"float64\",\"order\":\"little\"}],[\"Error\",{\"type\":\"ndarray\",\"array\":{\"type\":\"bytes\",\"data\":\"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\"},\"shape\":[1329],\"dtype\":\"float64\",\"order\":\"little\"}]]}}},\"view\":{\"type\":\"object\",\"name\":\"CDSView\",\"id\":\"p1149\",\"attributes\":{\"filter\":{\"type\":\"object\",\"name\":\"AllIndices\",\"id\":\"p1150\"}}},\"glyph\":{\"type\":\"object\",\"name\":\"Scatter\",\"id\":\"p1145\",\"attributes\":{\"x\":{\"type\":\"field\",\"field\":\"Experimental\"},\"y\":{\"type\":\"field\",\"field\":\"Predicted\"},\"size\":{\"type\":\"value\",\"value\":8},\"line_color\":{\"type\":\"value\",\"value\":null},\"fill_color\":{\"type\":\"field\",\"field\":\"Error\",\"transform\":{\"type\":\"object\",\"name\":\"LinearColorMapper\",\"id\":\"p1103\",\"attributes\":{\"palette\":[\"#30123b\",\"#311542\",\"#32184a\",\"#341b51\",\"#351e58\",\"#36215f\",\"#372365\",\"#38266c\",\"#392972\",\"#3a2c79\",\"#3b2f7f\",\"#3c3285\",\"#3c358b\",\"#3d3791\",\"#3e3a96\",\"#3f3d9c\",\"#4040a1\",\"#4043a6\",\"#4145ab\",\"#4148b0\",\"#424bb5\",\"#434eba\",\"#4350be\",\"#4353c2\",\"#4456c7\",\"#4458cb\",\"#455bce\",\"#455ed2\",\"#4560d6\",\"#4563d9\",\"#4666dd\",\"#4668e0\",\"#466be3\",\"#466de6\",\"#4670e8\",\"#4673eb\",\"#4675ed\",\"#4678f0\",\"#467af2\",\"#467df4\",\"#467ff6\",\"#4682f8\",\"#4584f9\",\"#4587fb\",\"#4589fc\",\"#448cfd\",\"#438efd\",\"#4291fe\",\"#4193fe\",\"#4096fe\",\"#3f98fe\",\"#3e9bfe\",\"#3c9dfd\",\"#3ba0fc\",\"#39a2fc\",\"#38a5fb\",\"#36a8f9\",\"#34aaf8\",\"#33acf6\",\"#31aff5\",\"#2fb1f3\",\"#2db4f1\",\"#2bb6ef\",\"#2ab9ed\",\"#28bbeb\",\"#26bde9\",\"#25c0e6\",\"#23c2e4\",\"#21c4e1\",\"#20c6df\",\"#1ec9dc\",\"#1dcbda\",\"#1ccdd7\",\"#1bcfd4\",\"#1ad1d2\",\"#19d3cf\",\"#18d5cc\",\"#18d7ca\",\"#17d9c7\",\"#17dac4\",\"#17dcc2\",\"#17debf\",\"#18e0bd\",\"#18e1ba\",\"#19e3b8\",\"#1ae4b6\",\"#1be5b4\",\"#1de7b1\",\"#1ee8af\",\"#20e9ac\",\"#22eba9\",\"#24eca6\",\"#27eda3\",\"#29eea0\",\"#2cef9d\",\"#2ff09a\",\"#32f197\",\"#35f394\",\"#38f491\",\"#3bf48d\",\"#3ff58a\",\"#42f687\",\"#46f783\",\"#4af880\",\"#4df97c\",\"#51f979\",\"#55fa76\",\"#59fb72\",\"#5dfb6f\",\"#61fc6c\",\"#65fc68\",\"#69fd65\",\"#6dfd62\",\"#71fd5f\",\"#74fe5c\",\"#78fe59\",\"#7cfe56\",\"#80fe53\",\"#84fe50\",\"#87fe4d\",\"#8bfe4b\",\"#8efe48\",\"#92fe46\",\"#95fe44\",\"#98fe42\",\"#9bfd40\",\"#9efd3e\",\"#a1fc3d\",\"#a4fc3b\",\"#a6fb3a\",\"#a9fb39\",\"#acfa37\",\"#aef937\",\"#b1f836\",\"#b3f835\",\"#b6f735\",\"#b9f534\",\"#bbf434\",\"#bef334\",\"#c0f233\",\"#c3f133\",\"#c5ef33\",\"#c8ee33\",\"#caed33\",\"#cdeb34\",\"#cfea34\",\"#d1e834\",\"#d4e735\",\"#d6e535\",\"#d8e335\",\"#dae236\",\"#dde036\",\"#dfde36\",\"#e1dc37\",\"#e3da37\",\"#e5d838\",\"#e7d738\",\"#e8d538\",\"#ead339\",\"#ecd139\",\"#edcf39\",\"#efcd39\",\"#f0cb3a\",\"#f2c83a\",\"#f3c63a\",\"#f4c43a\",\"#f6c23a\",\"#f7c039\",\"#f8be39\",\"#f9bc39\",\"#f9ba38\",\"#fab737\",\"#fbb537\",\"#fbb336\",\"#fcb035\",\"#fcae34\",\"#fdab33\",\"#fda932\",\"#fda631\",\"#fda330\",\"#fea12f\",\"#fe9e2e\",\"#fe9b2d\",\"#fe982c\",\"#fd952b\",\"#fd9229\",\"#fd8f28\",\"#fd8c27\",\"#fc8926\",\"#fc8624\",\"#fb8323\",\"#fb8022\",\"#fa7d20\",\"#fa7a1f\",\"#f9771e\",\"#f8741c\",\"#f7711b\",\"#f76e1a\",\"#f66b18\",\"#f56817\",\"#f46516\",\"#f36315\",\"#f26014\",\"#f15d13\",\"#ef5a11\",\"#ee5810\",\"#ed550f\",\"#ec520e\",\"#ea500d\",\"#e94d0d\",\"#e84b0c\",\"#e6490b\",\"#e5460a\",\"#e3440a\",\"#e24209\",\"#e04008\",\"#de3e08\",\"#dd3c07\",\"#db3a07\",\"#d93806\",\"#d73606\",\"#d63405\",\"#d43205\",\"#d23005\",\"#d02f04\",\"#ce2d04\",\"#cb2b03\",\"#c92903\",\"#c72803\",\"#c52602\",\"#c32402\",\"#c02302\",\"#be2102\",\"#bb1f01\",\"#b91e01\",\"#b61c01\",\"#b41b01\",\"#b11901\",\"#ae1801\",\"#ac1601\",\"#a91501\",\"#a61401\",\"#a31201\",\"#a01101\",\"#9d1001\",\"#9a0e01\",\"#970d01\",\"#940c01\",\"#910b01\",\"#8e0a01\",\"#8b0901\",\"#870801\",\"#840701\",\"#810602\",\"#7d0502\",\"#7a0402\"],\"low\":0.0,\"high\":6.346374650284466}}},\"fill_alpha\":{\"type\":\"value\",\"value\":0.6},\"hatch_color\":{\"type\":\"field\",\"field\":\"Error\",\"transform\":{\"id\":\"p1103\"}}}},\"nonselection_glyph\":{\"type\":\"object\",\"name\":\"Scatter\",\"id\":\"p1146\",\"attributes\":{\"x\":{\"type\":\"field\",\"field\":\"Experimental\"},\"y\":{\"type\":\"field\",\"field\":\"Predicted\"},\"size\":{\"type\":\"value\",\"value\":8},\"line_color\":{\"type\":\"value\",\"value\":null},\"line_alpha\":{\"type\":\"value\",\"value\":0.1},\"fill_color\":{\"type\":\"field\",\"field\":\"Error\",\"transform\":{\"id\":\"p1103\"}},\"fill_alpha\":{\"type\":\"value\",\"value\":0.1},\"hatch_color\":{\"type\":\"field\",\"field\":\"Error\",\"transform\":{\"id\":\"p1103\"}},\"hatch_alpha\":{\"type\":\"value\",\"value\":0.1}}},\"muted_glyph\":{\"type\":\"object\",\"name\":\"Scatter\",\"id\":\"p1147\",\"attributes\":{\"x\":{\"type\":\"field\",\"field\":\"Experimental\"},\"y\":{\"type\":\"field\",\"field\":\"Predicted\"},\"size\":{\"type\":\"value\",\"value\":8},\"line_color\":{\"type\":\"value\",\"value\":null},\"line_alpha\":{\"type\":\"value\",\"value\":0.2},\"fill_color\":{\"type\":\"field\",\"field\":\"Error\",\"transform\":{\"id\":\"p1103\"}},\"fill_alpha\":{\"type\":\"value\",\"value\":0.2},\"hatch_color\":{\"type\":\"field\",\"field\":\"Error\",\"transform\":{\"id\":\"p1103\"}},\"hatch_alpha\":{\"type\":\"value\",\"value\":0.2}}}}},{\"type\":\"object\",\"name\":\"GlyphRenderer\",\"id\":\"p1158\",\"attributes\":{\"data_source\":{\"type\":\"object\",\"name\":\"ColumnDataSource\",\"id\":\"p1152\",\"attributes\":{\"selected\":{\"type\":\"object\",\"name\":\"Selection\",\"id\":\"p1153\",\"attributes\":{\"indices\":[],\"line_indices\":[]}},\"selection_policy\":{\"type\":\"object\",\"name\":\"UnionRenderers\",\"id\":\"p1154\"},\"data\":{\"type\":\"map\",\"entries\":[[\"x\",[1.537602002101044,14.30102999566398]],[\"y\",[1.537602002101044,14.30102999566398]]]}}},\"view\":{\"type\":\"object\",\"name\":\"CDSView\",\"id\":\"p1159\",\"attributes\":{\"filter\":{\"type\":\"object\",\"name\":\"AllIndices\",\"id\":\"p1160\"}}},\"glyph\":{\"type\":\"object\",\"name\":\"Line\",\"id\":\"p1155\",\"attributes\":{\"x\":{\"type\":\"field\",\"field\":\"x\"},\"y\":{\"type\":\"field\",\"field\":\"y\"},\"line_width\":2,\"line_dash\":[6]}},\"nonselection_glyph\":{\"type\":\"object\",\"name\":\"Line\",\"id\":\"p1156\",\"attributes\":{\"x\":{\"type\":\"field\",\"field\":\"x\"},\"y\":{\"type\":\"field\",\"field\":\"y\"},\"line_alpha\":0.1,\"line_width\":2,\"line_dash\":[6]}},\"muted_glyph\":{\"type\":\"object\",\"name\":\"Line\",\"id\":\"p1157\",\"attributes\":{\"x\":{\"type\":\"field\",\"field\":\"x\"},\"y\":{\"type\":\"field\",\"field\":\"y\"},\"line_alpha\":0.2,\"line_width\":2,\"line_dash\":[6]}}}}],\"toolbar\":{\"type\":\"object\",\"name\":\"Toolbar\",\"id\":\"p1116\",\"attributes\":{\"tools\":[{\"type\":\"object\",\"name\":\"PanTool\",\"id\":\"p1129\"},{\"type\":\"object\",\"name\":\"WheelZoomTool\",\"id\":\"p1130\",\"attributes\":{\"renderers\":\"auto\"}},{\"type\":\"object\",\"name\":\"BoxZoomTool\",\"id\":\"p1131\",\"attributes\":{\"dimensions\":\"both\",\"overlay\":{\"type\":\"object\",\"name\":\"BoxAnnotation\",\"id\":\"p1132\",\"attributes\":{\"syncable\":false,\"line_color\":\"black\",\"line_alpha\":1.0,\"line_width\":2,\"line_dash\":[4,4],\"fill_color\":\"lightgrey\",\"fill_alpha\":0.5,\"level\":\"overlay\",\"visible\":false,\"left\":{\"type\":\"number\",\"value\":\"nan\"},\"right\":{\"type\":\"number\",\"value\":\"nan\"},\"top\":{\"type\":\"number\",\"value\":\"nan\"},\"bottom\":{\"type\":\"number\",\"value\":\"nan\"},\"left_units\":\"canvas\",\"right_units\":\"canvas\",\"top_units\":\"canvas\",\"bottom_units\":\"canvas\",\"handles\":{\"type\":\"object\",\"name\":\"BoxInteractionHandles\",\"id\":\"p1138\",\"attributes\":{\"all\":{\"type\":\"object\",\"name\":\"AreaVisuals\",\"id\":\"p1137\",\"attributes\":{\"fill_color\":\"white\",\"hover_fill_color\":\"lightgray\"}}}}}}}},{\"type\":\"object\",\"name\":\"SaveTool\",\"id\":\"p1139\"},{\"type\":\"object\",\"name\":\"ResetTool\",\"id\":\"p1140\"},{\"type\":\"object\",\"name\":\"HelpTool\",\"id\":\"p1141\"},{\"type\":\"object\",\"name\":\"HoverTool\",\"id\":\"p1151\",\"attributes\":{\"renderers\":\"auto\",\"tooltips\":[[\"Experimental\",\"@Experimental{0.00}\"],[\"Predicted\",\"@Predicted{0.00}\"],[\"Error\",\"@Error{0.00}\"]]}}]}},\"left\":[{\"type\":\"object\",\"name\":\"LinearAxis\",\"id\":\"p1124\",\"attributes\":{\"ticker\":{\"type\":\"object\",\"name\":\"BasicTicker\",\"id\":\"p1125\",\"attributes\":{\"mantissas\":[1,2,5]}},\"formatter\":{\"type\":\"object\",\"name\":\"BasicTickFormatter\",\"id\":\"p1126\"},\"axis_label\":\"Predicted pIC50\",\"major_label_policy\":{\"type\":\"object\",\"name\":\"AllLabels\",\"id\":\"p1127\"}}}],\"right\":[{\"type\":\"object\",\"name\":\"ColorBar\",\"id\":\"p1161\",\"attributes\":{\"location\":[0,0],\"major_label_policy\":{\"type\":\"object\",\"name\":\"NoOverlap\",\"id\":\"p1162\"},\"label_standoff\":12,\"color_mapper\":{\"id\":\"p1103\"}}}],\"below\":[{\"type\":\"object\",\"name\":\"LinearAxis\",\"id\":\"p1119\",\"attributes\":{\"ticker\":{\"type\":\"object\",\"name\":\"BasicTicker\",\"id\":\"p1120\",\"attributes\":{\"mantissas\":[1,2,5]}},\"formatter\":{\"type\":\"object\",\"name\":\"BasicTickFormatter\",\"id\":\"p1121\"},\"axis_label\":\"Experimental pIC50\",\"major_label_policy\":{\"type\":\"object\",\"name\":\"AllLabels\",\"id\":\"p1122\"}}}],\"center\":[{\"type\":\"object\",\"name\":\"Grid\",\"id\":\"p1123\",\"attributes\":{\"axis\":{\"id\":\"p1119\"}}},{\"type\":\"object\",\"name\":\"Grid\",\"id\":\"p1128\",\"attributes\":{\"dimension\":1,\"axis\":{\"id\":\"p1124\"}}}]}}]}};\n  const render_items = [{\"docid\":\"aba12918-3227-42c9-8998-99e91021a08e\",\"roots\":{\"p1107\":\"aa4b7a76-754e-45c9-8407-c24ecaa4c346\"},\"root_ids\":[\"p1107\"]}];\n  void root.Bokeh.embed.embed_items_notebook(docs_json, render_items);\n  }\n  if (root.Bokeh !== undefined) {\n    embed_document(root);\n  } else {\n    let attempts = 0;\n    const timer = setInterval(function(root) {\n      if (root.Bokeh !== undefined) {\n        clearInterval(timer);\n        embed_document(root);\n      } else {\n        attempts++;\n        if (attempts > 100) {\n          clearInterval(timer);\n          console.log(\"Bokeh: ERROR: Unable to run BokehJS code because BokehJS library is missing\");\n        }\n      }\n    }, 10, root)\n  }\n})(window);",
            "application/vnd.bokehjs_exec.v0+json": ""
          },
          "metadata": {
            "application/vnd.bokehjs_exec.v0+json": {
              "id": "p1107"
            }
          },
          "output_type": "display_data"
        }
      ],
      "source": [
        "# Install bokeh if not already installed\n",
        "%pip install bokeh\n",
        "\n",
        "from bokeh.plotting import figure, show\n",
        "from bokeh.models import ColumnDataSource, HoverTool, ColorBar, LinearColorMapper\n",
        "from bokeh.io import output_notebook\n",
        "from bokeh.transform import transform\n",
        "import numpy as np\n",
        "import pandas as pd\n",
        "\n",
        "output_notebook()\n",
        "\n",
        "# Convert to numpy arrays if they aren't already\n",
        "y_true = np.array(Y_test)\n",
        "y_pred = np.array(Y_pred)\n",
        "\n",
        "# Calculate error\n",
        "error = np.abs(y_true - y_pred)\n",
        "\n",
        "# Create dataframe for plotting\n",
        "df = pd.DataFrame({\n",
        "    'Experimental': y_true,\n",
        "    'Predicted': y_pred,\n",
        "    'Error': error\n",
        "})\n",
        "\n",
        "# Create color mapper for error\n",
        "mapper = LinearColorMapper(palette=\"Turbo256\", low=df[\"Error\"].min(), high=df[\"Error\"].max())\n",
        "\n",
        "# Create ColumnDataSource\n",
        "source = ColumnDataSource(df)\n",
        "\n",
        "# Create figure\n",
        "p = figure(width=700, height=500,\n",
        "           title=\"Experimental vs Predicted pIC50\",\n",
        "           x_axis_label=\"Experimental pIC50\",\n",
        "           y_axis_label=\"Predicted pIC50\")\n",
        "\n",
        "# Scatter plot with color based on error\n",
        "p.circle('Experimental', 'Predicted', \n",
        "         source=source,\n",
        "         size=8, \n",
        "         color=transform('Error', mapper),\n",
        "         line_color=None, \n",
        "         fill_alpha=0.6)\n",
        "\n",
        "# Add hover tool\n",
        "hover = HoverTool(tooltips=[\n",
        "    (\"Experimental\", \"@Experimental{0.00}\"),\n",
        "    (\"Predicted\", \"@Predicted{0.00}\"),\n",
        "    (\"Error\", \"@Error{0.00}\")\n",
        "])\n",
        "p.add_tools(hover)\n",
        "\n",
        "# Add 1:1 line\n",
        "p.line([df[\"Experimental\"].min(), df[\"Experimental\"].max()],\n",
        "       [df[\"Experimental\"].min(), df[\"Experimental\"].max()],\n",
        "       line_color=\"black\", line_dash=\"dashed\", line_width=2)\n",
        "\n",
        "# Add color bar\n",
        "color_bar = ColorBar(color_mapper=mapper, label_standoff=12, location=(0,0))\n",
        "p.add_layout(color_bar, 'right')\n",
        "\n",
        "show(p)\n"
      ]
    },
    {
      "cell_type": "code",
      "execution_count": null,
      "metadata": {},
      "outputs": [],
      "source": []
    }
  ],
  "metadata": {
    "colab": {
      "collapsed_sections": [],
      "name": "CDD-ML-Part-4-Acetylcholinesterase-Regression-Random-Forest.ipynb",
      "provenance": []
    },
    "kernelspec": {
      "display_name": "Python 3",
      "language": "python",
      "name": "python3"
    },
    "language_info": {
      "codemirror_mode": {
        "name": "ipython",
        "version": 3
      },
      "file_extension": ".py",
      "mimetype": "text/x-python",
      "name": "python",
      "nbconvert_exporter": "python",
      "pygments_lexer": "ipython3",
      "version": "3.10.4"
    }
  },
  "nbformat": 4,
  "nbformat_minor": 0
}
